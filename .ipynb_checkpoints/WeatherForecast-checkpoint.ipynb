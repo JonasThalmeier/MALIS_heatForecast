{
 "cells": [
  {
   "cell_type": "markdown",
   "id": "59dbbb72",
   "metadata": {},
   "source": [
    "## Initial Steps for Working with GRIB Dataset in Python\n",
    "\n",
    "### Step 1: Install Required Libraries\n",
    "You will need pygrib, xarray, numpy, pandas, and matplotlib.\n",
    "Use the following command to install them:\n",
    "!pip install pygrib xarray numpy pandas matplotlib"
   ]
  },
  {
   "cell_type": "code",
   "execution_count": 1,
   "id": "aa56588c",
   "metadata": {},
   "outputs": [],
   "source": [
    "import pygrib\n",
    "import os\n",
    "import xarray as xr\n",
    "import numpy as np\n",
    "import matplotlib.pyplot as plt"
   ]
  },
  {
   "cell_type": "markdown",
   "id": "826b6e25",
   "metadata": {},
   "source": [
    "### Step 2: Load and Explore the GRIB Data"
   ]
  },
  {
   "cell_type": "code",
   "execution_count": 2,
   "id": "fbe11c48",
   "metadata": {},
   "outputs": [],
   "source": [
    "# Load the GRIB file (Replace with the path to your GRIB file)\n",
    "grib_file_path = './era5_spain.grib'\n",
    "backend_kwargs = {\"filter_by_keys\": {\"shortName\": \"t2m\"}}  # Replace \"t2m\" with the desired variable\n",
    "grib_data = pygrib.open(grib_file_path)"
   ]
  },
  {
   "cell_type": "code",
   "execution_count": 4,
   "id": "5ea36659",
   "metadata": {},
   "outputs": [
    {
     "name": "stderr",
     "output_type": "stream",
     "text": [
      "skipping variable: paramId==228 shortName='tp'\n",
      "Traceback (most recent call last):\n",
      "  File \"/home/jonas/.local/lib/python3.10/site-packages/cfgrib/dataset.py\", line 721, in build_dataset_components\n",
      "    dict_merge(variables, coord_vars)\n",
      "  File \"/home/jonas/.local/lib/python3.10/site-packages/cfgrib/dataset.py\", line 639, in dict_merge\n",
      "    raise DatasetBuildError(\n",
      "cfgrib.dataset.DatasetBuildError: key present and new value is different: key='time' value=Variable(dimensions=('time',), data=array([1546300800, 1546344000, 1546387200, ..., 1703937600, 1703980800,\n",
      "       1704024000])) new_value=Variable(dimensions=('time',), data=array([1546279200, 1546322400, 1546365600, ..., 1703916000, 1703959200,\n",
      "       1704002400]))\n",
      "skipping variable: paramId==182 shortName='e'\n",
      "Traceback (most recent call last):\n",
      "  File \"/home/jonas/.local/lib/python3.10/site-packages/cfgrib/dataset.py\", line 721, in build_dataset_components\n",
      "    dict_merge(variables, coord_vars)\n",
      "  File \"/home/jonas/.local/lib/python3.10/site-packages/cfgrib/dataset.py\", line 639, in dict_merge\n",
      "    raise DatasetBuildError(\n",
      "cfgrib.dataset.DatasetBuildError: key present and new value is different: key='time' value=Variable(dimensions=('time',), data=array([1546300800, 1546344000, 1546387200, ..., 1703937600, 1703980800,\n",
      "       1704024000])) new_value=Variable(dimensions=('time',), data=array([1546279200, 1546322400, 1546365600, ..., 1703916000, 1703959200,\n",
      "       1704002400]))\n"
     ]
    },
    {
     "name": "stdout",
     "output_type": "stream",
     "text": [
      "Coordinates of the dataset:\n",
      "Coordinates:\n",
      "    number               int64 8B ...\n",
      "  * time                 (time) datetime64[ns] 29kB 2019-01-01 ... 2023-12-31...\n",
      "    step                 timedelta64[ns] 8B ...\n",
      "    surface              float64 8B ...\n",
      "  * latitude             (latitude) float64 72B 44.0 43.0 42.0 ... 37.0 36.0\n",
      "  * longitude            (longitude) float64 120B -10.0 -9.0 -8.0 ... 3.0 4.0\n",
      "    valid_time           (time) datetime64[ns] 29kB ...\n",
      "    depthBelowLandLayer  float64 8B ...\n",
      "\n",
      "Latitude values:\n",
      "[44. 43. 42. 41. 40. 39. 38. 37. 36.]\n",
      "\n",
      "Longitude values:\n",
      "[-10.  -9.  -8.  -7.  -6.  -5.  -4.  -3.  -2.  -1.   0.   1.   2.   3.\n",
      "   4.]\n",
      "\n",
      "Time values:\n",
      "['2019-01-01T00:00:00.000000000' '2019-01-01T12:00:00.000000000'\n",
      " '2019-01-02T00:00:00.000000000' ... '2023-12-30T12:00:00.000000000'\n",
      " '2023-12-31T00:00:00.000000000' '2023-12-31T12:00:00.000000000']\n"
     ]
    }
   ],
   "source": [
    "import xarray as xr\n",
    "\n",
    "# Load the GRIB dataset\n",
    "data = xr.open_dataset('./era5_spain.grib', engine=\"cfgrib\")\n",
    "\n",
    "# Print available coordinates\n",
    "print(\"Coordinates of the dataset:\")\n",
    "print(data.coords)\n",
    "\n",
    "# Optionally, print specific coordinate values\n",
    "print(\"\\nLatitude values:\")\n",
    "print(data[\"latitude\"].values)\n",
    "\n",
    "print(\"\\nLongitude values:\")\n",
    "print(data[\"longitude\"].values)\n",
    "\n",
    "# If the dataset has time:\n",
    "if \"time\" in data.coords:\n",
    "    print(\"\\nTime values:\")\n",
    "    print(data[\"time\"].values)"
   ]
  },
  {
   "cell_type": "code",
   "execution_count": null,
   "id": "c9647b1c",
   "metadata": {},
   "outputs": [],
   "source": [
    "# Step 1: Extract temperature data (e.g., variable \"t2m\")\n",
    "temperature = data[\"t2m\"]\n",
    "\n",
    "# Step 2: Filter measurements at 12:00\n",
    "data_12 = data.sel(time=temperature[\"time\"].dt.hour == 12)\n",
    "\n",
    "# Step 3: Restrict to May–August\n",
    "data_summer = data_12.sel(time=temp_12[\"time\"].dt.month.isin([5, 6, 7, 8]))\n",
    "\n",
    "temp_july_aug2 = data_summer[\"t2m\"].sel(time=temp_summer[\"time\"].dt.month.isin([7, 8]))\n",
    "\n",
    "# Step 4: Extract July–August for percentile calculation\n",
    "temp_july_aug = temp_summer.sel(time=temp_summer[\"time\"].dt.month.isin([7, 8]))\n",
    "\n",
    "# Step 5: Compute the 95th percentile for each location in July–August\n",
    "percentile_95 = temp_july_aug.quantile(0.95, dim=\"time\")\n",
    "\n",
    "# Step 6: Label hot days (May–August) based on the 95th percentile\n",
    "hot_days = temp_summer > percentile_95\n",
    "\n",
    "# Step 7: Add the \"hot_day\" label to the dataset without modifying other variables\n",
    "data_labeled = data.assign(hot_day=hot_days)\n",
    "\n",
    "# Save the labeled dataset for further analysis\n",
    "# data_labeled.to_netcdf(\"labeled_dataset.nc\")\n",
    "\n",
    "# Optional: Verify the results\n",
    "print(data)\n",
    "print(data_labeled.where(data_labeled[\"hot_day\"], drop=True))\n",
    "\n",
    "\n"
   ]
  },
  {
   "cell_type": "code",
   "execution_count": 31,
   "id": "60abb397",
   "metadata": {},
   "outputs": [
    {
     "name": "stdout",
     "output_type": "stream",
     "text": [
      "<xarray.DataArray 'hot_day' (time: 3267, points: 135)> Size: 4MB\n",
      "array([[nan, nan, nan, ..., nan, nan, nan],\n",
      "       [nan, nan, nan, ..., nan, nan, nan],\n",
      "       [nan, nan, nan, ..., nan, nan, nan],\n",
      "       ...,\n",
      "       [nan, nan, nan, ..., nan, nan, nan],\n",
      "       [nan, nan, nan, ..., nan, nan, nan],\n",
      "       [nan, nan, nan, ..., nan, nan, nan]])\n",
      "Coordinates:\n",
      "  * time                 (time) datetime64[ns] 26kB 2019-01-01 ... 2023-12-31...\n",
      "    number               int64 8B 0\n",
      "    step                 timedelta64[ns] 8B 00:00:00\n",
      "    surface              float64 8B 0.0\n",
      "    valid_time           (time) datetime64[ns] 26kB 2019-01-01 ... 2023-12-31...\n",
      "    depthBelowLandLayer  float64 8B 0.0\n",
      "    quantile             float64 8B 0.95\n",
      "  * points               (points) object 1kB MultiIndex\n",
      "  * latitude             (points) float64 1kB 44.0 44.0 44.0 ... 36.0 36.0 36.0\n",
      "  * longitude            (points) float64 1kB -10.0 -9.0 -8.0 ... 2.0 3.0 4.0\n"
     ]
    }
   ],
   "source": [
    "# Filter dataset to retain only hot days (where hot_day == True)\n",
    "hot_days = data_labeled[\"hot_day\"].where(data_labeled[\"hot_day\"], drop=True)\n",
    "\n",
    "# Stack latitude and longitude to create a single dimension\n",
    "hot_days_stacked = hot_days.stack(points=[\"latitude\", \"longitude\"])\n",
    "\n",
    "# Drop NaNs (non-hot days)\n",
    "hot_days_stacked = hot_days_stacked.dropna(\"points\")\n",
    "\n",
    "# Reset the index to include 'time', 'latitude', and 'longitude'\n",
    "hot_days_stacked = hot_days_stacked.reset_index([\"time\", \"latitude\", \"longitude\"])\n",
    "\n",
    "# Convert to a DataFrame\n",
    "hot_days_df = hot_days_stacked.to_dataframe(name=\"hot_day\")\n",
    "\n",
    "# Display the result (date and coordinates)\n",
    "print(hot_days_df[[\"time\", \"latitude\", \"longitude\"]])\n"
   ]
  },
  {
   "cell_type": "code",
   "execution_count": 20,
   "id": "1daca5b8",
   "metadata": {},
   "outputs": [
    {
     "name": "stdout",
     "output_type": "stream",
     "text": [
      "Sample of 50 hot days with dates and coordinates:\n",
      "Empty DataFrame\n",
      "Columns: [number, step, surface, valid_time, depthBelowLandLayer, quantile, latitude, longitude, hot_day]\n",
      "Index: []\n"
     ]
    }
   ],
   "source": [
    "import pandas as pd\n",
    "\n",
    "# Filter the dataset for hot days\n",
    "hot_day_data = data_labeled[\"hot_day\"].where(data_labeled[\"hot_day\"], drop=True)\n",
    "\n",
    "# Stack only latitude and longitude to create a 1D representation\n",
    "hot_days = hot_day_data.stack(points=[\"latitude\", \"longitude\"]).dropna(\"points\")\n",
    "\n",
    "# Ensure no duplicate dimensions or conflicts during conversion\n",
    "hot_days_df = hot_days.reset_index([\"latitude\", \"longitude\", \"time\"]).to_dataframe(name=\"hot_day\")\n",
    "\n",
    "# Print 50 hot days with dates and coordinates\n",
    "print(\"Sample of 50 hot days with dates and coordinates:\")\n",
    "print(hot_days_df.head(50))\n"
   ]
  },
  {
   "cell_type": "code",
   "execution_count": 14,
   "id": "6768c20f",
   "metadata": {},
   "outputs": [
    {
     "name": "stdout",
     "output_type": "stream",
     "text": [
      "<xarray.DataArray 't2m' (latitude: 9, longitude: 15)> Size: 1kB\n",
      "array([[20.38129883, 20.55343018, 20.83851318, 21.68621826, 22.30810547,\n",
      "        22.59553223, 22.82792969, 23.69127197, 24.07894287, 35.16433105,\n",
      "        36.30611572, 36.59200439, 34.18879395, 30.74462891, 34.67364502],\n",
      "       [20.44396973, 26.47862549, 28.12498779, 28.24962158, 26.27336426,\n",
      "        27.31981201, 30.13179932, 31.76206055, 30.45926514, 29.80283203,\n",
      "        27.5637085 , 30.4756958 , 31.76092529, 34.75413818, 26.07731934],\n",
      "       [20.81104736, 19.79202881, 29.82106934, 30.27561035, 34.40535889,\n",
      "        34.08448486, 35.16856689, 31.85689697, 34.50469971, 36.51617432,\n",
      "        36.6618042 , 34.1029541 , 32.05683594, 32.06547852, 26.5920166 ],\n",
      "       [21.12652588, 20.13623047, 31.01103516, 33.77158203, 33.54681396,\n",
      "        34.86575928, 32.60421143, 34.82915039, 35.00170898, 34.67012939,\n",
      "        36.78917236, 30.81690674, 27.69758301, 27.76158447, 27.8460083 ],\n",
      "       [21.12706299, 21.09835205, 33.28282471, 36.36903076, 37.28835449,\n",
      "        37.1269043 , 37.01977539, 36.49649658, 34.59165039, 33.3588501 ,\n",
      "        31.04798584, 28.09337158, 28.38848877, 29.33128662, 27.94003906],\n",
      "       [20.61003418, 34.49083252, 37.12008057, 38.09356689, 38.50773926,\n",
      "        37.5510376 , 37.89732666, 36.76212158, 36.54116211, 35.91763916,\n",
      "        28.61987305, 29.3772583 , 28.14942627, 28.31300049, 28.48995361],\n",
      "       [21.35946045, 20.81806641, 35.77207031, 37.06844482, 36.83608398,\n",
      "        38.02247314, 39.85670166, 36.71185303, 35.79844971, 37.82838135,\n",
      "        27.94925537, 28.17867432, 27.99246826, 28.26634521, 28.25754395],\n",
      "       [21.86091309, 20.35953369, 27.01032715, 28.09650879, 36.5940918 ,\n",
      "        34.75183105, 35.13070068, 33.63168945, 34.98505859, 28.33287354,\n",
      "        27.5064209 , 27.64255371, 28.11657715, 27.96663818, 27.6199707 ],\n",
      "       [22.37496338, 22.73184814, 24.37463379, 25.10144043, 26.87727051,\n",
      "        24.93392334, 26.64483643, 26.78432617, 27.06568604, 27.0012085 ,\n",
      "        30.90229492, 41.39140625, 40.52158203, 39.52983398, 40.15402832]])\n",
      "Coordinates:\n",
      "  * latitude   (latitude) float64 72B 44.0 43.0 42.0 41.0 ... 38.0 37.0 36.0\n",
      "  * longitude  (longitude) float64 120B -10.0 -9.0 -8.0 -7.0 ... 1.0 2.0 3.0 4.0\n",
      "    quantile   float64 8B 0.95\n",
      "<xarray.DataArray 't2m' ()> Size: 8B\n",
      "array(44.80141602)\n",
      "Coordinates:\n",
      "    number               int64 8B ...\n",
      "    step                 timedelta64[ns] 8B ...\n",
      "    surface              float64 8B ...\n",
      "    depthBelowLandLayer  float64 8B ...\n"
     ]
    }
   ],
   "source": [
    "# Inspect the 95th percentile values\n",
    "print(percentile_95-273.15)\n",
    "\n",
    "# Compare these values with the summer temperatures\n",
    "print(temp_summer.max()-273.15)\n"
   ]
  },
  {
   "cell_type": "code",
   "execution_count": 16,
   "id": "df3bb5a9",
   "metadata": {},
   "outputs": [
    {
     "name": "stdout",
     "output_type": "stream",
     "text": [
      "<xarray.DataArray 't2m' (time: 615, latitude: 9, longitude: 15)> Size: 332kB\n",
      "array([[[12.492676, 12.529785, 12.541504, ..., 19.512207, 17.535645,\n",
      "         21.35205 ],\n",
      "        [13.021973, 15.27002 , 14.38916 , ..., 18.305176, 22.762207,\n",
      "         15.477051],\n",
      "        [13.57666 , 15.20166 , 15.531738, ..., 18.557129, 20.035645,\n",
      "         16.256348],\n",
      "        ...,\n",
      "        [15.10791 , 16.406738, 25.105957, ..., 16.904785, 16.885254,\n",
      "         16.631348],\n",
      "        [15.76416 , 15.693848, 19.436035, ..., 17.322754, 17.123535,\n",
      "         16.586426],\n",
      "        [16.141113, 17.141113, 18.350098, ..., 24.03955 , 22.721191,\n",
      "         22.416504]],\n",
      "\n",
      "       [[13.045654, 12.633545, 12.395264, ..., 16.24878 , 13.014404,\n",
      "         19.957764],\n",
      "        [12.68042 , 15.338623, 14.531982, ..., 12.567139, 19.444092,\n",
      "         15.692139],\n",
      "        [13.446045, 15.99292 , 16.864014, ..., 17.04956 , 17.703857,\n",
      "         14.969482],\n",
      "...\n",
      "        [19.854492, 18.94043 , 29.00879 , ..., 25.879883, 25.838867,\n",
      "         25.555664],\n",
      "        [20.47754 , 18.108398, 24.106445, ..., 26.004883, 25.704102,\n",
      "         25.50293 ],\n",
      "        [20.920898, 20.514648, 21.69043 , ..., 30.764648, 29.967773,\n",
      "         30.469727]],\n",
      "\n",
      "       [[20.74707 , 19.948242, 19.77832 , ..., 23.327148, 20.608398,\n",
      "         25.983398],\n",
      "        [19.989258, 22.30957 , 22.612305, ..., 23.219727, 28.551758,\n",
      "         20.700195],\n",
      "        [19.74707 , 18.14746 , 23.74707 , ..., 23.206055, 22.930664,\n",
      "         20.55957 ],\n",
      "        ...,\n",
      "        [19.922852, 19.104492, 31.797852, ..., 25.686523, 25.801758,\n",
      "         25.805664],\n",
      "        [20.463867, 18.20996 , 22.311523, ..., 25.881836, 25.844727,\n",
      "         25.35254 ],\n",
      "        [20.938477, 21.254883, 22.799805, ..., 29.385742, 29.329102,\n",
      "         30.731445]]], dtype=float32)\n",
      "Coordinates:\n",
      "    number               int64 8B ...\n",
      "  * time                 (time) datetime64[ns] 5kB 2019-05-01T12:00:00 ... 20...\n",
      "    step                 timedelta64[ns] 8B ...\n",
      "    surface              float64 8B ...\n",
      "  * latitude             (latitude) float64 72B 44.0 43.0 42.0 ... 37.0 36.0\n",
      "  * longitude            (longitude) float64 120B -10.0 -9.0 -8.0 ... 3.0 4.0\n",
      "    valid_time           (time) datetime64[ns] 5kB ...\n",
      "    depthBelowLandLayer  float64 8B ...\n"
     ]
    }
   ],
   "source": [
    "print(temp_summer-273)\n"
   ]
  },
  {
   "cell_type": "code",
   "execution_count": null,
   "id": "fbdc2fc6",
   "metadata": {},
   "outputs": [],
   "source": []
  }
 ],
 "metadata": {
  "kernelspec": {
   "display_name": "Python 3 (ipykernel)",
   "language": "python",
   "name": "python3"
  },
  "language_info": {
   "codemirror_mode": {
    "name": "ipython",
    "version": 3
   },
   "file_extension": ".py",
   "mimetype": "text/x-python",
   "name": "python",
   "nbconvert_exporter": "python",
   "pygments_lexer": "ipython3",
   "version": "3.10.12"
  }
 },
 "nbformat": 4,
 "nbformat_minor": 5
}
