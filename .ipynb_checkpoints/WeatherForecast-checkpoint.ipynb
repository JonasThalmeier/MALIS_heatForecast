{
 "cells": [
  {
   "cell_type": "markdown",
   "id": "59dbbb72",
   "metadata": {},
   "source": [
    "## Initial Steps for Working with GRIB Dataset in Python\n",
    "\n",
    "### Step 1: Install Required Libraries\n",
    "You will need pygrib, xarray, numpy, pandas, and matplotlib.\n",
    "Use the following command to install them:\n",
    "!pip install pygrib xarray numpy pandas matplotlib"
   ]
  },
  {
   "cell_type": "code",
   "execution_count": 1,
   "id": "aa56588c",
   "metadata": {},
   "outputs": [],
   "source": [
    "import pygrib\n",
    "import os\n",
    "import xarray as xr\n",
    "import numpy as np\n",
    "import matplotlib.pyplot as plt"
   ]
  },
  {
   "cell_type": "markdown",
   "id": "826b6e25",
   "metadata": {},
   "source": [
    "### Step 2: Load and Explore the GRIB Data"
   ]
  },
  {
   "cell_type": "code",
   "execution_count": 2,
   "id": "fbe11c48",
   "metadata": {},
   "outputs": [],
   "source": [
    "# Load the GRIB file (Replace with the path to your GRIB file)\n",
    "grib_file_path = './era5_spain.grib'\n",
    "backend_kwargs = {\"filter_by_keys\": {\"shortName\": \"t2m\"}}  # Replace \"t2m\" with the desired variable\n",
    "grib_data = pygrib.open(grib_file_path)"
   ]
  },
  {
   "cell_type": "code",
   "execution_count": 3,
   "id": "4da6b88b",
   "metadata": {},
   "outputs": [
    {
     "name": "stderr",
     "output_type": "stream",
     "text": [
      "Ignoring index file './era5_spain.grib.5b7b6.idx' incompatible with GRIB file\n",
      "skipping variable: paramId==228 shortName='tp'\n",
      "Traceback (most recent call last):\n",
      "  File \"/home/jonas/.local/lib/python3.10/site-packages/cfgrib/dataset.py\", line 721, in build_dataset_components\n",
      "    dict_merge(variables, coord_vars)\n",
      "  File \"/home/jonas/.local/lib/python3.10/site-packages/cfgrib/dataset.py\", line 639, in dict_merge\n",
      "    raise DatasetBuildError(\n",
      "cfgrib.dataset.DatasetBuildError: key present and new value is different: key='time' value=Variable(dimensions=('time',), data=array([1546300800, 1546344000, 1546387200, ..., 1703937600, 1703980800,\n",
      "       1704024000])) new_value=Variable(dimensions=('time',), data=array([1546279200, 1546322400, 1546365600, ..., 1703916000, 1703959200,\n",
      "       1704002400]))\n",
      "skipping variable: paramId==182 shortName='e'\n",
      "Traceback (most recent call last):\n",
      "  File \"/home/jonas/.local/lib/python3.10/site-packages/cfgrib/dataset.py\", line 721, in build_dataset_components\n",
      "    dict_merge(variables, coord_vars)\n",
      "  File \"/home/jonas/.local/lib/python3.10/site-packages/cfgrib/dataset.py\", line 639, in dict_merge\n",
      "    raise DatasetBuildError(\n",
      "cfgrib.dataset.DatasetBuildError: key present and new value is different: key='time' value=Variable(dimensions=('time',), data=array([1546300800, 1546344000, 1546387200, ..., 1703937600, 1703980800,\n",
      "       1704024000])) new_value=Variable(dimensions=('time',), data=array([1546279200, 1546322400, 1546365600, ..., 1703916000, 1703959200,\n",
      "       1704002400]))\n"
     ]
    },
    {
     "name": "stdout",
     "output_type": "stream",
     "text": [
      "Coordinates of the dataset:\n",
      "Coordinates:\n",
      "    number               int64 8B ...\n",
      "  * time                 (time) datetime64[ns] 29kB 2019-01-01 ... 2023-12-31...\n",
      "    step                 timedelta64[ns] 8B ...\n",
      "    surface              float64 8B ...\n",
      "  * latitude             (latitude) float64 72B 44.0 43.0 42.0 ... 37.0 36.0\n",
      "  * longitude            (longitude) float64 120B -10.0 -9.0 -8.0 ... 3.0 4.0\n",
      "    valid_time           (time) datetime64[ns] 29kB ...\n",
      "    depthBelowLandLayer  float64 8B ...\n",
      "\n",
      "Latitude values:\n",
      "[44. 43. 42. 41. 40. 39. 38. 37. 36.]\n",
      "\n",
      "Longitude values:\n",
      "[-10.  -9.  -8.  -7.  -6.  -5.  -4.  -3.  -2.  -1.   0.   1.   2.   3.\n",
      "   4.]\n",
      "\n",
      "Time values:\n",
      "['2019-01-01T00:00:00.000000000' '2019-01-01T12:00:00.000000000'\n",
      " '2019-01-02T00:00:00.000000000' ... '2023-12-30T12:00:00.000000000'\n",
      " '2023-12-31T00:00:00.000000000' '2023-12-31T12:00:00.000000000']\n"
     ]
    }
   ],
   "source": [
    "import xarray as xr\n",
    "\n",
    "# Load the GRIB dataset\n",
    "data = xr.open_dataset('./era5_spain.grib', engine=\"cfgrib\")\n",
    "\n",
    "# Print available coordinates\n",
    "print(\"Coordinates of the dataset:\")\n",
    "print(data.coords)\n",
    "\n",
    "# Optionally, print specific coordinate values\n",
    "print(\"\\nLatitude values:\")\n",
    "print(data[\"latitude\"].values)\n",
    "\n",
    "print(\"\\nLongitude values:\")\n",
    "print(data[\"longitude\"].values)\n",
    "\n",
    "# If the dataset has time:\n",
    "if \"time\" in data.coords:\n",
    "    print(\"\\nTime values:\")\n",
    "    print(data[\"time\"].values)"
   ]
  },
  {
   "cell_type": "markdown",
   "id": "cf4a7ef5",
   "metadata": {},
   "source": [
    "## Generate labels for hot days"
   ]
  },
  {
   "cell_type": "code",
   "execution_count": 69,
   "id": "5fe8173a",
   "metadata": {},
   "outputs": [
    {
     "name": "stdout",
     "output_type": "stream",
     "text": [
      "Summer Dataset with Hot Day Labels:\n",
      "<xarray.Dataset> Size: 4MB\n",
      "Dimensions:              (time: 918, latitude: 9, longitude: 15)\n",
      "Coordinates:\n",
      "  * time                 (time) datetime64[ns] 7kB 2019-05-01 ... 2023-08-31T...\n",
      "  * latitude             (latitude) float64 72B 44.0 43.0 42.0 ... 37.0 36.0\n",
      "  * longitude            (longitude) float64 120B -10.0 -9.0 -8.0 ... 3.0 4.0\n",
      "    number               int64 8B 0\n",
      "    step                 timedelta64[ns] 8B 00:00:00\n",
      "    surface              float64 8B 0.0\n",
      "    valid_time           (time) datetime64[ns] 7kB 2019-05-01 ... 2023-08-31T...\n",
      "    depthBelowLandLayer  float64 8B 0.0\n",
      "    quantile             float64 8B 0.9\n",
      "Data variables:\n",
      "    t2m                  (time, latitude, longitude) float32 496kB 285.9 ... nan\n",
      "    d2m                  (time, latitude, longitude) float32 496kB 283.8 ... nan\n",
      "    msl                  (time, latitude, longitude) float32 496kB 1.02e+05 ....\n",
      "    tcc                  (time, latitude, longitude) float32 496kB 0.8873 ......\n",
      "    swvl1                (time, latitude, longitude) float32 496kB 1.304e-06 ...\n",
      "    u10                  (time, latitude, longitude) float32 496kB -1.395 ......\n",
      "    v10                  (time, latitude, longitude) float32 496kB -9.226 ......\n",
      "    hot_day              (time, latitude, longitude) float64 991kB nan ... nan\n",
      "Attributes:\n",
      "    GRIB_edition:            1\n",
      "    GRIB_centre:             ecmf\n",
      "    GRIB_centreDescription:  European Centre for Medium-Range Weather Forecasts\n",
      "    GRIB_subCentre:          0\n",
      "    Conventions:             CF-1.7\n",
      "    institution:             European Centre for Medium-Range Weather Forecasts\n",
      "    history:                 2024-12-19T07:27 GRIB to CDM+CF via cfgrib-0.9.1...\n"
     ]
    }
   ],
   "source": [
    "# Step 1: Restrict the dataset to May–August\n",
    "data_summer = data.sel(time=data[\"time\"].dt.month.isin([5, 6, 7, 8]))\n",
    "\n",
    "# Step 2: Extract temperature data (e.g., variable \"t2m\") for the summer months\n",
    "temperature_summer = data_summer[\"t2m\"]\n",
    "\n",
    "# Step 3: Filter temperature measurements at 12:00 within summer months\n",
    "temp_summer_12 = temperature_summer.sel(time=temperature_summer[\"time\"].dt.hour == 12)\n",
    "\n",
    "# Step 4: Extract July–August temperatures for percentile calculation\n",
    "temp_july_aug = temp_summer_12.sel(time=temp_summer_12[\"time\"].dt.month.isin([7, 8]))\n",
    "\n",
    "# Step 5: Compute the 95th percentile for each location in July–August\n",
    "percentile_95 = temp_july_aug.quantile(0.95, dim=\"time\")\n",
    "\n",
    "# Step 6: Label hot days (May–August) based on the 95th percentile\n",
    "hot_days = temp_summer_12 > percentile_95\n",
    "\n",
    "# Step 7: Add the \"hot_day\" label to the summer dataset\n",
    "data_summer_labeled = data_summer.assign(hot_day=hot_days)\n",
    "\n",
    "# Optional: Save the labeled dataset for further analysis\n",
    "# data_summer_labeled.to_netcdf(\"labeled_summer_dataset.nc\")\n",
    "\n",
    "# Step 8: Verify the results\n",
    "print(\"Summer Dataset with Hot Day Labels:\")\n",
    "print(data_summer_labeled.where(data_summer_labeled[\"hot_day\"], drop=True))\n",
    "\n"
   ]
  },
  {
   "cell_type": "code",
   "execution_count": 46,
   "id": "bf158da6",
   "metadata": {},
   "outputs": [
    {
     "name": "stdout",
     "output_type": "stream",
     "text": [
      "65th Percentile Temperature Values:\n",
      "<xarray.DataArray 't2m' (latitude: 9, longitude: 15)> Size: 1kB\n",
      "array([[20.53129883, 20.70343018, 20.98851318, 21.83621826, 22.45810547,\n",
      "        22.74553223, 22.97792969, 23.84127197, 24.22894287, 35.31433105,\n",
      "        36.45611572, 36.74200439, 34.33879395, 30.89462891, 34.82364502],\n",
      "       [20.59396973, 26.62862549, 28.27498779, 28.39962158, 26.42336426,\n",
      "        27.46981201, 30.28179932, 31.91206055, 30.60926514, 29.95283203,\n",
      "        27.7137085 , 30.6256958 , 31.91092529, 34.90413818, 26.22731934],\n",
      "       [20.96104736, 19.94202881, 29.97106934, 30.42561035, 34.55535889,\n",
      "        34.23448486, 35.31856689, 32.00689697, 34.65469971, 36.66617432,\n",
      "        36.8118042 , 34.2529541 , 32.20683594, 32.21547852, 26.7420166 ],\n",
      "       [21.27652588, 20.28623047, 31.16103516, 33.92158203, 33.69681396,\n",
      "        35.01575928, 32.75421143, 34.97915039, 35.15170898, 34.82012939,\n",
      "        36.93917236, 30.96690674, 27.84758301, 27.91158447, 27.9960083 ],\n",
      "       [21.27706299, 21.24835205, 33.43282471, 36.51903076, 37.43835449,\n",
      "        37.2769043 , 37.16977539, 36.64649658, 34.74165039, 33.5088501 ,\n",
      "        31.19798584, 28.24337158, 28.53848877, 29.48128662, 28.09003906],\n",
      "       [20.76003418, 34.64083252, 37.27008057, 38.24356689, 38.65773926,\n",
      "        37.7010376 , 38.04732666, 36.91212158, 36.69116211, 36.06763916,\n",
      "        28.76987305, 29.5272583 , 28.29942627, 28.46300049, 28.63995361],\n",
      "       [21.50946045, 20.96806641, 35.92207031, 37.21844482, 36.98608398,\n",
      "        38.17247314, 40.00670166, 36.86185303, 35.94844971, 37.97838135,\n",
      "        28.09925537, 28.32867432, 28.14246826, 28.41634521, 28.40754395],\n",
      "       [22.01091309, 20.50953369, 27.16032715, 28.24650879, 36.7440918 ,\n",
      "        34.90183105, 35.28070068, 33.78168945, 35.13505859, 28.48287354,\n",
      "        27.6564209 , 27.79255371, 28.26657715, 28.11663818, 27.7699707 ],\n",
      "       [22.52496338, 22.88184814, 24.52463379, 25.25144043, 27.02727051,\n",
      "        25.08392334, 26.79483643, 26.93432617, 27.21568604, 27.1512085 ,\n",
      "        31.05229492, 41.54140625, 40.67158203, 39.67983398, 40.30402832]])\n",
      "Coordinates:\n",
      "  * latitude   (latitude) float64 72B 44.0 43.0 42.0 41.0 ... 38.0 37.0 36.0\n",
      "  * longitude  (longitude) float64 120B -10.0 -9.0 -8.0 -7.0 ... 1.0 2.0 3.0 4.0\n",
      "    quantile   float64 8B 0.95\n",
      "65th Percentile Temperature Values:\n",
      "<xarray.DataArray 't2m' (latitude: 9, longitude: 15)> Size: 1kB\n",
      "array([[19.49737549, 19.65605469, 19.77609863, 20.30401611, 20.68989258,\n",
      "        20.89204102, 21.18841553, 21.66068115, 21.62280273, 29.19055176,\n",
      "        29.8770874 , 30.35159912, 28.96170654, 26.95939941, 31.6519165 ],\n",
      "       [19.12276611, 22.30777588, 23.17908936, 23.75437012, 22.3855957 ,\n",
      "        22.54238281, 24.45825195, 25.24066162, 25.01815186, 24.85917969,\n",
      "        23.18381348, 25.16546631, 27.59415283, 31.47487793, 24.43884277],\n",
      "       [19.29915771, 18.37617188, 25.19344482, 26.14250488, 29.98144531,\n",
      "        29.10114746, 30.38887939, 27.6223999 , 29.59144287, 32.33613281,\n",
      "        32.9869873 , 30.50454102, 28.60183105, 29.61055908, 24.9057251 ],\n",
      "       [19.76477051, 18.64263916, 26.72426758, 29.77944336, 29.24920654,\n",
      "        30.39522705, 28.92906494, 31.38359375, 31.50200195, 31.07398682,\n",
      "        33.13822021, 28.88216553, 26.23951416, 26.09058838, 25.99384766],\n",
      "       [19.91856689, 19.2901123 , 28.43360596, 32.8850708 , 33.7994873 ,\n",
      "        33.93653564, 34.21915283, 33.58823242, 31.39743652, 29.94573975,\n",
      "        29.30738525, 26.74486084, 26.93529053, 27.80220947, 26.53997803],\n",
      "       [19.51278076, 27.56938477, 31.48983154, 33.71873779, 34.75513916,\n",
      "        34.22662354, 34.80946045, 33.90445557, 33.9284668 , 32.96323242,\n",
      "        26.83771973, 27.79537354, 26.5800293 , 26.85489502, 26.91936035],\n",
      "       [20.15136719, 19.48026123, 31.5439209 , 33.184375  , 33.26064453,\n",
      "        34.32819824, 36.37817383, 33.88319092, 32.26031494, 34.65499268,\n",
      "        26.81091309, 26.92255859, 26.64108887, 26.99516602, 26.95189209],\n",
      "       [20.5769043 , 18.95556641, 24.10439453, 25.38658447, 33.2213501 ,\n",
      "        31.52910156, 31.95987549, 30.79744873, 31.71700439, 26.75494385,\n",
      "        26.26348877, 26.25395508, 26.56414795, 26.47971191, 25.85515137],\n",
      "       [21.06098633, 21.04449463, 22.71052246, 23.61292725, 24.62207031,\n",
      "        23.73310547, 25.01766357, 25.11768799, 25.85778809, 25.59091797,\n",
      "        28.52501221, 36.89519043, 36.55992432, 36.20093994, 36.52077637]])\n",
      "Coordinates:\n",
      "  * latitude   (latitude) float64 72B 44.0 43.0 42.0 41.0 ... 38.0 37.0 36.0\n",
      "  * longitude  (longitude) float64 120B -10.0 -9.0 -8.0 -7.0 ... 1.0 2.0 3.0 4.0\n",
      "    quantile   float64 8B 0.65\n"
     ]
    }
   ],
   "source": [
    "# Recalculate the percentile with a lower threshold\n",
    "percentile_95 = temp_july_aug.quantile(0.95, dim=\"time\")\n",
    "print(\"65th Percentile Temperature Values:\")\n",
    "print(percentile_95-273)"
   ]
  },
  {
   "cell_type": "code",
   "execution_count": 50,
   "id": "71db00c8",
   "metadata": {},
   "outputs": [
    {
     "name": "stdout",
     "output_type": "stream",
     "text": [
      "Total number of hot days: 11927.0\n",
      "Total number of days: 1230\n"
     ]
    },
    {
     "name": "stderr",
     "output_type": "stream",
     "text": [
      "/tmp/ipykernel_4014/1491870278.py:7: FutureWarning: The return type of `Dataset.dims` will be changed to return a set of dimension names in future, in order to be more consistent with `DataArray.dims`. To access a mapping from dimension names to lengths, please use `Dataset.sizes`.\n",
      "  num_days = data_summer_labeled.dims[\"time\"]\n"
     ]
    },
    {
     "name": "stdout",
     "output_type": "stream",
     "text": [
      "Total number of data points: 166050\n"
     ]
    }
   ],
   "source": [
    "# Count the number of hot days (True values) in the \"hot_day\" field\n",
    "num_hot_days = data_summer_labeled[\"hot_day\"].sum().item()\n",
    "\n",
    "print(f\"Total number of hot days: {num_hot_days}\")\n",
    "\n",
    "# Count the number of hot days (True values) in the \"hot_day\" field\n",
    "num_days = data_summer_labeled.dims[\"time\"]\n",
    "print(f\"Total number of days: {num_days}\")\n",
    "\n",
    "# Sum the count of non-NaN values in \"t2m\" across time, latitude, and longitude\n",
    "num_data_points = data_summer_labeled[\"t2m\"].notnull().sum().item()\n",
    "print(f\"Total number of data points: {num_data_points}\")\n",
    "\n"
   ]
  },
  {
   "cell_type": "code",
   "execution_count": 34,
   "id": "01354fcf",
   "metadata": {},
   "outputs": [
    {
     "name": "stdout",
     "output_type": "stream",
     "text": [
      "Temp Summer Dimensions: (615, 9, 15)\n",
      "Percentile 95 Shape: (9, 15)\n",
      "Hot Days Shape: (615, 9, 15)\n"
     ]
    }
   ],
   "source": [
    "print(\"Temp Summer Dimensions:\", temp_summer.shape)\n",
    "print(\"Percentile 95 Shape:\", percentile_95.shape)\n",
    "print(\"Hot Days Shape:\", hot_days.shape)"
   ]
  },
  {
   "cell_type": "code",
   "execution_count": 70,
   "id": "19f72fd3",
   "metadata": {
    "scrolled": true
   },
   "outputs": [
    {
     "name": "stdout",
     "output_type": "stream",
     "text": [
      "Distinct Three-Day Streaks per Location:\n",
      "<xarray.DataArray 't2m' (latitude: 9, longitude: 15)> Size: 1kB\n",
      "array([[4, 2, 2, 2, 3, 3, 3, 3, 3, 4, 5, 5, 6, 6, 6],\n",
      "       [3, 7, 4, 3, 3, 5, 4, 4, 4, 6, 6, 5, 4, 6, 6],\n",
      "       [4, 6, 4, 3, 6, 7, 6, 4, 5, 6, 7, 5, 5, 3, 2],\n",
      "       [7, 7, 4, 5, 5, 4, 4, 5, 6, 5, 6, 4, 2, 2, 2],\n",
      "       [4, 6, 6, 4, 3, 4, 5, 4, 6, 5, 4, 2, 4, 4, 3],\n",
      "       [5, 4, 5, 4, 5, 5, 5, 5, 4, 1, 2, 4, 2, 2, 3],\n",
      "       [3, 5, 8, 5, 5, 5, 7, 4, 3, 3, 3, 5, 3, 5, 5],\n",
      "       [2, 7, 5, 5, 6, 4, 4, 1, 2, 4, 3, 4, 2, 3, 2],\n",
      "       [5, 5, 7, 5, 4, 2, 4, 5, 5, 5, 1, 4, 3, 4, 4]])\n",
      "Coordinates:\n",
      "    number               int64 8B ...\n",
      "    step                 timedelta64[ns] 8B ...\n",
      "    surface              float64 8B ...\n",
      "  * latitude             (latitude) float64 72B 44.0 43.0 42.0 ... 37.0 36.0\n",
      "  * longitude            (longitude) float64 120B -10.0 -9.0 -8.0 ... 3.0 4.0\n",
      "    depthBelowLandLayer  float64 8B ...\n",
      "    quantile             float64 8B 0.9\n"
     ]
    },
    {
     "data": {
      "image/png": "[encoded data removed]",
      "text/plain": [
       "<Figure size 720x432 with 2 Axes>"
      ]
     },
     "metadata": {
      "needs_background": "light"
     },
     "output_type": "display_data"
    }
   ],
   "source": [
    "# Step 1: Verify hot days array (already computed)\n",
    "# print(\"Hot Days Array (Summary):\")\n",
    "# print(hot_days)\n",
    "\n",
    "# Step 2: Apply a rolling window to compute streaks\n",
    "streaks_rolling = (\n",
    "    hot_days.rolling(time=3, center=False)   # Rolling 3-day window\n",
    "    .construct(\"window_dim\")                # Create a dimension for the rolling window\n",
    "    .reduce(np.all, dim=\"window_dim\")       # Check if all values in the window are True\n",
    ")\n",
    "\n",
    "# Step 3: Replace NaN values (from rolling) with 0\n",
    "streaks_rolling_filled = streaks_rolling.fillna(0).astype(int)\n",
    "\n",
    "# Verify rolling streaks\n",
    "# print(\"Rolling Streaks (3-Day):\")\n",
    "# print(streaks_rolling_filled)\n",
    "\n",
    "# Step 4: Count the number of streaks per location\n",
    "def count_distinct_streaks(array):\n",
    "    diff = np.diff(array, axis=0)\n",
    "    streak_starts = (diff == 1).sum(axis=0)  # Count where a streak begins\n",
    "    return streak_starts\n",
    "\n",
    "distinct_streaks = xr.apply_ufunc(\n",
    "    count_distinct_streaks,\n",
    "    streaks_rolling_filled,\n",
    "    input_core_dims=[[\"time\"]],\n",
    "    vectorize=True\n",
    ")\n",
    "\n",
    "# Step 5: Print results\n",
    "print(\"Distinct Three-Day Streaks per Location:\")\n",
    "print(distinct_streaks)\n",
    "\n",
    "# Optional: Plot the results\n",
    "import matplotlib.pyplot as plt\n",
    "\n",
    "plt.figure(figsize=(10, 6))\n",
    "plt.title(\"Distinct 3-Day Hot Streaks per Location\")\n",
    "plt.imshow(distinct_streaks, origin=\"lower\", aspect=\"auto\")\n",
    "plt.colorbar(label=\"Number of Streaks\")\n",
    "plt.xlabel(\"Longitude Index\")\n",
    "plt.ylabel(\"Latitude Index\")\n",
    "plt.show()\n"
   ]
  },
  {
   "cell_type": "code",
   "execution_count": null,
   "id": "c21e6ad9",
   "metadata": {},
   "outputs": [],
   "source": []
  }
 ],
 "metadata": {
  "kernelspec": {
   "display_name": "Python 3 (ipykernel)",
   "language": "python",
   "name": "python3"
  },
  "language_info": {
   "codemirror_mode": {
    "name": "ipython",
    "version": 3
   },
   "file_extension": ".py",
   "mimetype": "text/x-python",
   "name": "python",
   "nbconvert_exporter": "python",
   "pygments_lexer": "ipython3",
   "version": "3.10.12"
  }
 },
 "nbformat": 4,
 "nbformat_minor": 5
}
